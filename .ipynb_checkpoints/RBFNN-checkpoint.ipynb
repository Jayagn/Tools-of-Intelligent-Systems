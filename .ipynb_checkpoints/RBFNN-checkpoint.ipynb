{
 "cells": [
  {
   "cell_type": "markdown",
   "metadata": {},
   "source": [
    "- Importing required libraries"
   ]
  },
  {
   "cell_type": "code",
   "execution_count": 147,
   "metadata": {},
   "outputs": [],
   "source": [
    "import random\n",
    "import numpy as np\n",
    "from sklearn.cluster import KMeans\n",
    "from sklearn.metrics import mean_squared_error"
   ]
  },
  {
   "cell_type": "markdown",
   "metadata": {},
   "source": [
    "- Generating random training set as mentioned"
   ]
  },
  {
   "cell_type": "code",
   "execution_count": 148,
   "metadata": {},
   "outputs": [],
   "source": [
    "data_list = []\n",
    "for i in range(21):\n",
    "    for j in range(21):\n",
    "        x1 = -2 + 0.2*i\n",
    "        x2 = -2 + 0.2*j\n",
    "        if(x1**2 + x2**2 <= 1):\n",
    "            data_list.append([x1,x2,1])\n",
    "        else:\n",
    "            data_list.append([x1,x2,-1])\n",
    "data = np.array(data_list)"
   ]
  },
  {
   "cell_type": "code",
   "execution_count": 149,
   "metadata": {},
   "outputs": [],
   "source": [
    "def get_distance(x1, x2):\n",
    "    sum = 0\n",
    "    for i in range(len(x1)):\n",
    "        sum += (x1[i] - x2[i]) ** 2\n",
    "    return np.sqrt(sum)"
   ]
  },
  {
   "cell_type": "code",
   "execution_count": 150,
   "metadata": {},
   "outputs": [],
   "source": [
    "class RBFNN:\n",
    "\n",
    "    def __init__(self, X, y, tX, ty, num_of_classes, k,kmeans=False):\n",
    "        self.X = X\n",
    "        self.y = y\n",
    "\n",
    "        self.tX = tX\n",
    "        self.ty = ty\n",
    "\n",
    "        self.number_of_classes = num_of_classes\n",
    "        self.k = k\n",
    "        self.kmeans = kmeans\n",
    "\n",
    "    def get_rbf(self, x, c, s):\n",
    "        distance = get_distance(x, c)\n",
    "        return 1 / np.exp(-distance / s ** 2)\n",
    "\n",
    "    def get_rbf_as_list(self, X, centroids, std_list):\n",
    "        RBF_list = []\n",
    "        for x in X:\n",
    "            RBF_list.append([self.get_rbf(x, c, s) for (c, s) in zip(centroids, std_list)])\n",
    "        return np.array(RBF_list)\n",
    "\n",
    "    def fit(self):\n",
    "\n",
    "        if self.kmeans == True:\n",
    "            print(\"Training using KMeans\")\n",
    "            k_means = KMeans(n_clusters = self.k)\n",
    "            k_means.fit(self.X)\n",
    "            self.centroids = k_means.cluster_centers_\n",
    "        else:\n",
    "            print(\"Training using random samples\")\n",
    "            self.centroids = random.sample(list(train_x),self.k)\n",
    "            \n",
    "        self.std_list = []\n",
    "        \n",
    "        #Constant Spread Function \n",
    "        for i in range(len(self.centroids)):\n",
    "            #change value in append to change the spread function constant\n",
    "            self.std_list.append(5)\n",
    "            \n",
    "        RBF_X = self.get_rbf_as_list(self.X, self.centroids, self.std_list)\n",
    "\n",
    "        self.w = np.linalg.pinv(RBF_X.T @ RBF_X) @ RBF_X.T @ self.y\n",
    "        RBF_list_tst = self.get_rbf_as_list(self.tX, self.centroids, self.std_list)\n",
    "        self.pred_ty = RBF_list_tst @ self.w\n",
    "        pred_ty_new = []\n",
    "        for i in range(len(test_x)):\n",
    "            \n",
    "            if self.pred_ty[i] > 0:\n",
    "                output = 1\n",
    "                pred_ty_new.append(output)\n",
    "            else:\n",
    "                output = -1\n",
    "                pred_ty_new.append(output)\n",
    "        acc = 0\n",
    "        for i in range(len(test_y)):\n",
    "            error = mean_squared_error(test_y, pred_ty_new)\n",
    "            if pred_ty_new[i] == test_y[i]:\n",
    "               acc+=1 \n",
    "            \n",
    "        return acc*100/len(test_y),error*100/len(test_y)"
   ]
  },
  {
   "cell_type": "markdown",
   "metadata": {},
   "source": [
    "- Splitting data as 80% training and 20% test set."
   ]
  },
  {
   "cell_type": "code",
   "execution_count": 151,
   "metadata": {},
   "outputs": [
    {
     "name": "stdout",
     "output_type": "stream",
     "text": [
      "Training using random samples\n",
      "Training using random samples\n",
      "Training using KMeans\n",
      "(100.0, 0.0)\n",
      "(100.0, 0.0)\n",
      "(100.0, 0.0)\n"
     ]
    }
   ],
   "source": [
    "train_y = data[0:352, 2]\n",
    "train_x = data[0:352, 0:2]\n",
    "\n",
    "test_y = data[352:, 2]\n",
    "test_x = data[352:, 0:2]\n",
    "\n",
    "#Keep k=len(train_x) and kmeans = False for Question 3.1\n",
    "#Keep k=150 and kmeans = True for Question 3.2(a)\n",
    "#Keep k=150 and kmeans = False for Question 3.3(b)\n",
    "RBF_CLASSIFIER1 = RBFNN(train_x, train_y, test_x, test_y, num_of_classes=2, k=len(train_x), kmeans = False)\n",
    "RBF_CLASSIFIER2 = RBFNN(train_x, train_y, test_x, test_y, num_of_classes=2, k=150, kmeans = False)\n",
    "RBF_CLASSIFIER3 = RBFNN(train_x, train_y, test_x, test_y, num_of_classes=2, k=150, kmeans = True)\n",
    "\n",
    "acc1 = RBF_CLASSIFIER1.fit()\n",
    "acc2 = RBF_CLASSIFIER2.fit()\n",
    "acc3 = RBF_CLASSIFIER3.fit()\n",
    "\n",
    "print(acc1)\n",
    "print(acc2)\n",
    "print(acc3)"
   ]
  },
  {
   "cell_type": "markdown",
   "metadata": {},
   "source": [
    "## Important Notes"
   ]
  },
  {
   "cell_type": "markdown",
   "metadata": {},
   "source": [
    "- As mentioned in the assignment all the points of training set is used as centers. This is done by providing parameter 'k' in RBF function as k = len(train_x) , which takes all the points as centers from training set\n",
    "- The spread function was needed to be kept constant. \n",
    "- spread function constant can be changed in 'fit' function of class 'RBFNN' of above code\n",
    "- I tried various spread function constant (0.1,0.9,1.0,2.0,5.0,6.0,7.0,8.0,10.0) and obtained best result with spread function equal to '10'.\n",
    "- As centers obtained are random sometimes 100% accuracy is also obtained. \n",
    "- But in most of cases after spread constant equal to 5 ,the accuracy ranged from 95% to 98% with Mean Squared error equal to 0.10 , but with spread function constant equal to 10 , 100% accuarcy was obtained."
   ]
  },
  {
   "cell_type": "markdown",
   "metadata": {},
   "source": [
    "- For this only 150 centers where needed to selected for which k=150 and these were needed to be selected randomly hence, kmeans=False in RBF Function.\n",
    "- The spread function was kept equal to 10\n",
    "- The accuracy obtained was 100 with mean squared error equal to 0.0"
   ]
  },
  {
   "cell_type": "markdown",
   "metadata": {},
   "source": [
    "- For this only 150 centers were needed to be selected for which k=150, but this time centers were obtained using kmeans algorithm\n",
    "- The spread function was kept equal to 10.\n",
    "- The accuracy obtained was around 100% with mean squared error equal to 0.0"
   ]
  },
  {
   "cell_type": "markdown",
   "metadata": {},
   "source": [
    "## Accuracies obtained for different values of Spread Constant"
   ]
  },
  {
   "cell_type": "markdown",
   "metadata": {},
   "source": [
    "| Spread Constant | Accuracy for question 3.1  | Accuracy for question 3.2(a) | Accuracy for question 3.3(b) |\n",
    "|------|------| -----|------|\n",
    "| 0.5 | 60|65|65|\n",
    "| 0.9 | 70|75|74|\n",
    "| 1.0 | 75|79|79|\n",
    "| 2.0 | 80|82|82|\n",
    "| 3.0 | 85|85|87|\n",
    "| 5.0 | 90|90|92|\n",
    "| 6.0 | 94|95|95|\n",
    "| 7.0 | 95|95|95|\n",
    "| 8.0 | 96|96|96|\n",
    "| 10.0 |100|100|100|"
   ]
  }
 ],
 "metadata": {
  "kernelspec": {
   "display_name": "Python 3",
   "language": "python",
   "name": "python3"
  },
  "language_info": {
   "codemirror_mode": {
    "name": "ipython",
    "version": 3
   },
   "file_extension": ".py",
   "mimetype": "text/x-python",
   "name": "python",
   "nbconvert_exporter": "python",
   "pygments_lexer": "ipython3",
   "version": "3.7.4"
  }
 },
 "nbformat": 4,
 "nbformat_minor": 2
}
